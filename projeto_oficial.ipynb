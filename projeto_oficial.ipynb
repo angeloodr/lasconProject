{
 "cells": [
  {
   "cell_type": "code",
   "execution_count": 1,
   "metadata": {},
   "outputs": [],
   "source": [
    "from netpyne import specs, sim\n",
    "%matplotlib inline\n",
    "import matplotlib.pyplot as plt\n",
    "import numpy as np\n",
    "import neuron\n",
    "import netpyne"
   ]
  },
  {
   "cell_type": "markdown",
   "metadata": {},
   "source": [
    "# things to to in the code\n",
    "\n",
    "<s>1. the network needs to run without external stimulus:\n",
    "\n",
    "a. set the initial stimulus,\n",
    "\n",
    "b. configure sinaptic connections\n",
    "\n",
    "c. record spikes for 1 second and see if the network stops or tends to stop </s>\n",
    "\n",
    "<s>2. Configure the external stimulus\n",
    "\n",
    "a. Configure the extracelular stimulus</s> See if it is wright\n",
    "\n",
    "<s> b. see if it works with the raster plot </s>\n",
    "\n",
    "<s> 3. Configure LFP recording with the NetPyNE method </s>\n",
    "\n",
    "<s>4. extract and analyse spike train data - see how to do that in NetPyNe</s>\n",
    "\n",
    "5. mesuring sinchronicity of a spiking neural network \n",
    "\n",
    "<s>a. with kuramoto model:</s> how much the network is sinchronized? does stimulus alters sincronization? Sincronization between with and without stimulus\n",
    "\n",
    "<s>b. periodogram</s>: How frequency alters in the different situations with and without stimulus? Frequency Locking?\n",
    "\n",
    "<s>c. ISI:</s> variance between with and without stimulus\n",
    "\n",
    "<s>6. Do different testing: altering for different frequencies</s>\n",
    "\n",
    "7. Do the plotting:\n",
    "\n",
    "a. 3d figure with cell and electrode - Angelo\n",
    "\n",
    "b. raster plot + lfp + stimulation - Angelo\n",
    "\n",
    "c. spectro 7hz + 14 hz + 25hz - Angelo\n",
    "\n",
    "d. kuramoto metrics: 7hz 14hz 25 hz - Joao\n",
    "\n",
    "e. isi variance: 2 points for each trial for trials in (7,14,25,37,50) - Joao\n",
    "\n",
    "8. Write conclusion\n",
    "\n",
    "9. problem 1 slide, meth 2 slides, results 5 slides, discussion 1-2slides total= 10 "
   ]
  },
  {
   "cell_type": "code",
   "execution_count": 2,
   "metadata": {},
   "outputs": [],
   "source": [
    "# Network parameters\n",
    "netParams = specs.NetParams()  # object of class NetParams to store the network parameters\n",
    "\n",
    "## Cell parameters\n",
    "netParams.cellParams['pyr'] = {\n",
    "    'secs': {\n",
    "        'soma': {\n",
    "            'geom': {\n",
    "                'diam': 18.8,   \n",
    "                'L': 18.8, \n",
    "                'Ra': 123.0},\n",
    "            'mechs': {\n",
    "                'hh': {\n",
    "                    'gnabar': 0.12, \n",
    "                    'gkbar': 0.036, \n",
    "                    'gl': 0.0003, \n",
    "                    'el': -70}\n",
    "            }\n",
    "        },\n",
    "        'dend1': {\n",
    "            'geom': {\n",
    "                'diam': 5.0, \n",
    "                'L': 75.0, \n",
    "                'Ra': 150.0, \n",
    "                'cm': 1\n",
    "            }, \n",
    "            'mechs' :{\n",
    "                'pas':{\n",
    "                    'g': 0.0000357, \n",
    "                    'e': -70}\n",
    "            },\n",
    "            'topol' : {\n",
    "                'parentSec': 'soma', \n",
    "                'parentX': 1.0, \n",
    "                'childX': 0\n",
    "                }\n",
    "        },\n",
    "        'dend2': {\n",
    "            'geom': {\n",
    "                'diam': 5.0, \n",
    "                'L': 75.0, \n",
    "                'Ra': 150.0, \n",
    "                'cm': 1\n",
    "            }, \n",
    "            'mechs' :{\n",
    "                'pas':{\n",
    "                    'g': 0.0000357, \n",
    "                    'e': -70}\n",
    "            },\n",
    "            'topol' : {\n",
    "                'parentSec': 'dend1', \n",
    "                'parentX': 1.0, \n",
    "                'childX': 0\n",
    "                }\n",
    "            \n",
    "        }\n",
    "    }\n",
    "    # , \"pt3d\": True,\n",
    "}\n",
    "\n",
    "## Population parameters\n",
    "netParams.popParams['E'] = { #xyzRange = [0, 100]\n",
    "    'cellType': 'pyr', \n",
    "    'numCells': 80}\n",
    "\n",
    "netParams.popParams['I'] = {\n",
    "    'cellType': 'pyr', \n",
    "    'numCells': 20}\n",
    "\n",
    "## Synaptic mechanism parameters\n",
    "netParams.synMechParams['exc'] = {\n",
    "    'mod': 'Exp2Syn', \n",
    "    'tau1': 0.1, \n",
    "    'tau2': 5.0, \n",
    "    'e': 0}  # excitatory synaptic mechanism\n",
    "\n",
    "netParams.synMechParams['inh'] = {\n",
    "    'mod': 'Exp2Syn', \n",
    "    'tau1': 0.1, \n",
    "    'tau2': 5.0, \n",
    "    'e': -80}  # excitatory synaptic mechanism\n",
    "\n",
    "# Stimulation parameters\n",
    "netParams.stimSourceParams['bkg'] = {\n",
    "    'type': 'NetStim', \n",
    "    'rate': 1, #hz \n",
    "    'noise': 0.5}\n",
    "\n",
    "netParams.stimTargetParams['bkg->E'] = {\n",
    "    'source': 'bkg', \n",
    "    'conds': {'pop': 'E'}, \n",
    "    'weight': 0.01, \n",
    "    'delay': 1,\n",
    "    'synMech': 'exc'}\n",
    "\n",
    "## Connectivity rules\n",
    "netParams.connParams['E->E'] = {    #  label\n",
    "    'preConds': {'pop': 'E'},       # conditions of presyn cells\n",
    "    'postConds': {'pop': 'E'},      # conditions of postsyn cells\n",
    "    'divergence': 5,                # probability of connection\n",
    "    'weight': 0.01,                 # synaptic weight\n",
    "    'delay': 5,                     # transmission delay (ms)\n",
    "    'synMech': 'exc'}               # synaptic mechanism\n",
    "\n",
    "netParams.connParams['E->I'] = {    #  label\n",
    "    'preConds': {'pop': 'E'},       # conditions of presyn cells\n",
    "    'postConds': {'pop': 'I'},      # conditions of postsyn cells\n",
    "    'divergence': 5,                # probability of connection\n",
    "    'weight': 0.01,                 # synaptic weight\n",
    "    'delay': 5,                     # transmission delay (ms)\n",
    "    'synMech': 'exc'}               # synaptic mechanism\n",
    "\n",
    "netParams.connParams['I->E'] = {    #  label\n",
    "    'preConds': {'pop': 'I'},       # conditions of presyn cells\n",
    "    'postConds': {'pop': 'E'},      # conditions of postsyn cells\n",
    "    'divergence': 10,               # probability of connection\n",
    "    'weight': 0.01,                 # synaptic weight\n",
    "    'delay': 5,                     # transmission delay (ms)\n",
    "    'synMech': 'inh'}               # synaptic mechanism\n",
    "\n",
    "netParams.sizeX = 100\n",
    "netParams.sizeY = 100\n",
    "netParams.sizeZ = 100\n",
    "\n",
    "simConfig = specs.SimConfig()       # object of class SimConfig to store simulation configuration\n",
    "\n"
   ]
  },
  {
   "cell_type": "code",
   "execution_count": 3,
   "metadata": {},
   "outputs": [],
   "source": [
    "# #------------------------------------------------------------------------------\n",
    "# #  extracellular mechs\n",
    "# #------------------------------------------------------------------------------\n",
    "for celltyp in netParams.cellParams.keys():\n",
    "    label = []\n",
    "    for secname in netParams.cellParams[celltyp]['secs'].keys():\n",
    "        netParams.cellParams[celltyp]['secs'][secname]['mechs']['extracellular'] = {}\n"
   ]
  },
  {
   "cell_type": "code",
   "execution_count": 4,
   "metadata": {},
   "outputs": [],
   "source": [
    "\n",
    "# Simulation options\n",
    "\n",
    "simConfig.duration = 500          # Duration of the simulation, in ms\n",
    "simConfig.dt = 0.01                # Internal integration timestep to use\n",
    "simConfig.verbose = False           # Show detailed messages\n",
    "simConfig.recordTraces = {'V_soma':{'sec':'soma','loc':0.5,'var':'v'}}  # Dict with traces to record\n",
    "simConfig.recordCells = ['E', 'I']\n",
    "simConfig.recordStep = 0.1          # Step size in ms to save data (eg. V traces, LFP, etc)\n",
    "simConfig.filename = 'raster'  # Set file output name\n",
    "simConfig.saveJson = False\n",
    "# simConfig.analysis['plotLFP'] = {'includeAxon': False, 'plots': ['timeSeries',  'locations'], 'figSize': (7.5,13.5), 'saveFig': False}\n",
    "simConfig.recordLFP = [[50,50,50]]\n",
    "\n",
    "#simConfig.analysis['plotTraces'] = {'include': ['E', 'I'], 'saveFig': True}  # Plot recorded traces for this list of cells\n",
    "simConfig.analysis['plotRaster'] = {'showFig': True}                  # Plot a raster\n",
    "simConfig.analysis['plotSpikeHist'] = {'include': ['E', 'I'], 'showFig': True}\n",
    "simConfig.analysis['plotLFPSpecrogram'] = {'saveFig': True}                   # plot 2D cell positions and connections\n",
    "# simConfig.analysis['plotRateSpectrogram'] = {'include': ['all'], 'saveFig': True}\n",
    "\n",
    "\n",
    "# Create network and run simulation\n",
    "# sim.createSimulateAnalyze(netParams = netParams, simConfig = simConfig)    "
   ]
  },
  {
   "cell_type": "code",
   "execution_count": 5,
   "metadata": {},
   "outputs": [
    {
     "name": "stdout",
     "output_type": "stream",
     "text": [
      "\n",
      "Start time:  2024-01-31 19:26:17.134606\n",
      "\n",
      "Creating network of 2 cell populations on 1 hosts...\n",
      "  Number of cells on node 0: 100 \n",
      "  Done; cell creation time = 0.02 s.\n"
     ]
    }
   ],
   "source": [
    "\n",
    "sim.initialize(\n",
    "    simConfig = simConfig, \t\n",
    "    netParams = netParams)  \t\t\t\t# create network object and set cfg and net params\n",
    "sim.net.createPops()               \t\t\t# instantiate network populations\n",
    "sim.net.createCells()              \t\t\t# instantiate network cells based on defined populations\n",
    "sim.net.defineCellShapes()  # in case some cells had stylized morphologies without 3d pts"
   ]
  },
  {
   "cell_type": "code",
   "execution_count": 6,
   "metadata": {},
   "outputs": [
    {
     "name": "stdout",
     "output_type": "stream",
     "text": [
      "Making connections...\n",
      "  Number of connections on node 0: 1000 \n",
      "  Done; cell connection time = 0.14 s.\n",
      "Adding stims...\n",
      "  Number of stims on node 0: 80 \n",
      "  Done; cell stims creation time = 0.01 s.\n",
      "Recording 100 traces of 1 types on node 0\n"
     ]
    }
   ],
   "source": [
    "sim.net.connectCells()            \t\t\t# create connections between cells based on params\n",
    "sim.net.addStims() \t\t\t\t\t\t\t# add network stimulation\n",
    "sim.setupRecording()              \t\t\t# setup variables to record for each cell (spikes, V traces, etc)\n",
    "sim.net.defineCellShapes()"
   ]
  },
  {
   "cell_type": "code",
   "execution_count": 7,
   "metadata": {},
   "outputs": [
    {
     "name": "stdout",
     "output_type": "stream",
     "text": [
      "\n",
      "Running simulation using NEURON for 500.0 ms...\n",
      "  Done; run time = 27.13 s; real-time ratio: 0.02.\n",
      "\n",
      "Gathering data...\n",
      "  Done; gather time = 0.08 s.\n",
      "\n",
      "Analyzing...\n",
      "  Cells: 100\n",
      "  Connections: 1080 (10.80 per cell)\n",
      "  Spikes: 1372 (27.44 Hz)\n",
      "  Simulated time: 0.5 s; 1 workers\n",
      "  Run time: 27.13 s\n",
      "Warning: data won't be saved. No output format specified (consider sim.cfg.savePickle, sim.cfg.saveJson etc.)\n",
      "Preparing spike data...\n",
      "Plotting raster...\n",
      "Preparing spike data...\n",
      "Plotting spike histogram...\n",
      "Unable to run plotLFPSpecrogram from sim.plotting and sim.analysis (no such function)\n",
      "  Done; plotting time = 0.30 s\n",
      "\n",
      "Total time = 28.55 s\n",
      "Plotting 3D cell shape ...\n",
      "\n",
      "There was an exception in plotShape()\n"
     ]
    },
    {
     "name": "stderr",
     "output_type": "stream",
     "text": [
      "Traceback (most recent call last):\n",
      "  File \"c:\\Users\\angel\\Documents\\lascon2024\\lasconProjectVenv\\lib\\site-packages\\netpyne\\analysis\\utils.py\", line 87, in wrapper\n",
      "    return function(*args, **kwargs)\n",
      "  File \"c:\\Users\\angel\\Documents\\lascon2024\\lasconProjectVenv\\lib\\site-packages\\netpyne\\plotting\\plotShape.py\", line 192, in plotShape\n",
      "    shapeax.dist = dist * shapeax.dist\n",
      "AttributeError: 'Axes3D' object has no attribute 'dist'. Did you mean: '_dist'?\n"
     ]
    },
    {
     "data": {
      "text/plain": [
       "-1"
      ]
     },
     "execution_count": 7,
     "metadata": {},
     "output_type": "execute_result"
    },
    {
     "data": {
      "image/png": "[encoded data removed]",
      "text/plain": [
       "<Figure size 640x480 with 1 Axes>"
      ]
     },
     "metadata": {},
     "output_type": "display_data"
    },
    {
     "data": {
      "image/png": "[encoded data removed]",
      "text/plain": [
       "<Figure size 640x480 with 1 Axes>"
      ]
     },
     "metadata": {},
     "output_type": "display_data"
    },
    {
     "data": {
      "image/png": "[encoded data removed]",
      "text/plain": [
       "<Figure size 640x480 with 1 Axes>"
      ]
     },
     "metadata": {},
     "output_type": "display_data"
    }
   ],
   "source": [
    "# The parameters of the extracellular point current source\n",
    "acs_params = {'position': [20.0, 20.0, 20.0],  # um\n",
    "              'amp': 50.,  # uA,\n",
    "              'stimstart': 1200,  # ms\n",
    "              'stimend': 2200,  # ms\n",
    "              'frequency': 7,  # Hz\n",
    "              'sigma': 0.57  # decay constant S/m\n",
    "              }\n",
    "\n",
    "skull_attenuation = 0.01*710 #conductivity of bone(S/m) * thickness of rat skull um\n",
    "\n",
    "def getDend1Pos(cell):\n",
    "        \"\"\"\n",
    "        Get soma position;\n",
    "        Used to calculate seg coords for LFP calc (one per population cell; assumes same morphology)\n",
    "        \"\"\"\n",
    "\n",
    "        n3dsoma = 0\n",
    "        r3dsoma = np.zeros(3)\n",
    "        for sec in [sec for secName, sec in cell.secs.items() if 'dend1' in secName]:\n",
    "            sec['hObj'].push()\n",
    "            n3d = int(neuron.h.n3d())  # get number of n3d points in each section\n",
    "            r3d = np.zeros((3, n3d))  # to hold locations of 3D morphology for the current section\n",
    "            n3dsoma += n3d\n",
    "\n",
    "            for i in range(n3d):\n",
    "                r3dsoma[0] += neuron.h.x3d(i)\n",
    "                r3dsoma[1] += neuron.h.y3d(i)\n",
    "                r3dsoma[2] += neuron.h.z3d(i)\n",
    "\n",
    "            neuron.h.pop_section()\n",
    "\n",
    "        r3dsoma /= n3dsoma\n",
    "\n",
    "        return r3dsoma\n",
    "\n",
    "def getDend2Pos(cell):\n",
    "        \"\"\"\n",
    "        Get soma position;\n",
    "        Used to calculate seg coords for LFP calc (one per population cell; assumes same morphology)\n",
    "        \"\"\"\n",
    "\n",
    "        n3dsoma = 0\n",
    "        r3dsoma = np.zeros(3)\n",
    "        for sec in [sec for secName, sec in cell.secs.items() if 'dend2' in secName]:\n",
    "            sec['hObj'].push()\n",
    "            n3d = int(neuron.h.n3d())  # get number of n3d points in each section\n",
    "            r3d = np.zeros((3, n3d))  # to hold locations of 3D morphology for the current section\n",
    "            n3dsoma += n3d\n",
    "\n",
    "            for i in range(n3d):\n",
    "                r3dsoma[0] += neuron.h.x3d(i)\n",
    "                r3dsoma[1] += neuron.h.y3d(i)\n",
    "                r3dsoma[2] += neuron.h.z3d(i)\n",
    "\n",
    "            neuron.h.pop_section()\n",
    "\n",
    "        r3dsoma /= n3dsoma\n",
    "\n",
    "        return r3dsoma\n",
    "\n",
    "def insert_v_ext(cell, v_ext, t_ext):\n",
    "\n",
    "    cell.t_ext = neuron.h.Vector(t_ext)\n",
    "    cell.v_ext = []\n",
    "\n",
    "    for s in v_ext:\n",
    "        cell.v_ext.append(neuron.h.Vector(s))\n",
    "        \n",
    "    # play v_ext into e_extracellular reference\n",
    "    i = 0\n",
    "    cell.v_ext[i].play(cell.secs['soma']['hObj'](0.5)._ref_e_extracellular, cell.t_ext)\n",
    "\n",
    "def make_extracellular_stimuli(acs_params, cell, numsetions=3):\n",
    "    \"\"\" Function to calculate and apply external potential \"\"\"\n",
    "    x0, y0, z0 = acs_params['position']\n",
    "    ext_field = np.vectorize(lambda x, y, z: 1 / (4 * np.pi *\n",
    "                                                  (acs_params['sigma'] * \n",
    "                                                   np.sqrt((x0 - x)**2 + (y0 - y)**2 + (z0 - z)**2) + skull_attenuation)))\n",
    "\n",
    "    stimstart = acs_params['stimstart']\n",
    "    stimend = acs_params['stimend']\n",
    "    stimdif = stimend-stimstart\n",
    "\n",
    "    # MAKING THE EXTERNAL FIELD\n",
    "    n_tsteps = int(stimdif / simConfig.dt + 1)\n",
    "    n_start = int(stimstart/simConfig.dt)\n",
    "    n_end = int(stimend/simConfig.dt + 1)\n",
    "    t = np.arange(start=n_start, stop=n_end) * simConfig.dt\n",
    "    pulse = acs_params['amp'] * 1000. * \\\n",
    "          np.sin(2 * np.pi * acs_params['frequency'] * t / 1000)\n",
    "        \n",
    "        \n",
    "    v_cell_ext = np.zeros((numsetions, n_tsteps))\n",
    "    \n",
    "    v_cell_ext[:, :] = (ext_field(np.array([cell.getSomaPos()[0], abs(cell.getSomaPos()[1]), cell.getSomaPos()[2]]), \n",
    "                                 np.array([getDend1Pos(cell)[0], getDend1Pos(cell)[1], getDend1Pos(cell)[2]]), \n",
    "                                 np.array([getDend2Pos(cell)[0], getDend2Pos(cell)[1], getDend2Pos(cell)[2]])).reshape(numsetions, 1)\n",
    "                                 * pulse.reshape(1, n_tsteps))\n",
    "    \n",
    "    insert_v_ext(cell, v_cell_ext, t)\n",
    "\n",
    "    return ext_field, pulse\n",
    "\n",
    "#Add extracellular stim\n",
    "for c,metype in enumerate(sim.net.cells):\n",
    "    if 'presyn' not in metype.tags['pop']:\n",
    "        ext_field, pulse = make_extracellular_stimuli(acs_params, sim.net.cells[c])\n",
    "\n",
    "sim.runSim()                      \t\t\t# run parallel Neuron simulation  \n",
    "sim.gatherData()                  \t\t\t# gather spiking data and cell info from each node\n",
    "sim.saveData()                    \t\t\t# save params, cell info and sim output to file (pickle,mat,txt,etc)#\n",
    "sim.analysis.plotData()         \t\t\t# plot spike raster etc\n",
    "sim.analysis.plotShape()"
   ]
  },
  {
   "cell_type": "code",
   "execution_count": 8,
   "metadata": {},
   "outputs": [],
   "source": [
    "# sim.analysis.plotLFP(electrodes=[0], saveFig= f\".\\spectrogram_{acs_params['frequency']}Hz.png\", plots='spectrogram')"
   ]
  },
  {
   "cell_type": "code",
   "execution_count": 35,
   "metadata": {},
   "outputs": [
    {
     "name": "stdout",
     "output_type": "stream",
     "text": [
      "Plotting 3D cell shape ...\n",
      "\n",
      "There was an exception in plotShape()\n"
     ]
    },
    {
     "name": "stderr",
     "output_type": "stream",
     "text": [
      "Traceback (most recent call last):\n",
      "  File \"c:\\Users\\angel\\Documents\\lascon2024\\lasconProjectVenv\\lib\\site-packages\\netpyne\\analysis\\utils.py\", line 87, in wrapper\n",
      "    return function(*args, **kwargs)\n",
      "  File \"c:\\Users\\angel\\Documents\\lascon2024\\lasconProjectVenv\\lib\\site-packages\\netpyne\\plotting\\plotShape.py\", line 181, in plotShape\n",
      "    fig = axis.figure\n",
      "AttributeError: 'str' object has no attribute 'figure'\n"
     ]
    },
    {
     "data": {
      "text/plain": [
       "-1"
      ]
     },
     "execution_count": 35,
     "metadata": {},
     "output_type": "execute_result"
    }
   ],
   "source": [
    "sim.analysis.plotShape(includePre=[27,40,41,42,43,44,45,46,47,48,49], includePost=[27,40,41,42,43,44,45,46,47,48,49],\n",
    "                       showSyns=False, showElectrodes=True, synStyle='.', synSize=3, dist=0.6, elev=90, azim=-90, \n",
    "                       cvar=None, cvals=None, iv=False, ivprops=None, includeAxon=True, bkgColor=None, axis='cu', axisLabels=False, \n",
    "                       figSize=(10, 8), fontSize=12, saveData=None, dpi=300, saveFig=None, showFig=True)"
   ]
  },
  {
   "cell_type": "code",
   "execution_count": 10,
   "metadata": {},
   "outputs": [],
   "source": [
    "#  netpyne.support.morphology.shapeplot(, ax, sections=None, order='pre',\n",
    "#                                        cvals=None, clim=None, cmap=<matplotlib.colors.LinearSegmentedColormap object>, \n",
    "#                                         legend=True, **kwargs)[source]"
   ]
  },
  {
   "cell_type": "code",
   "execution_count": 11,
   "metadata": {},
   "outputs": [],
   "source": [
    "# import os\n",
    "# os.chdir(path='.\\data')\n",
    "# spkid = np.array(sim.simData['spkid'].to_python())\n",
    "# spktime = np.array(sim.simData['spkt'].to_python())\n",
    "# lfpdata = sim.simData['LFP']\n",
    "\n",
    "# np.savetxt(f\"spkid_{acs_params['frequency']}Hz.csv\", spkid, delimiter=\",\")\n",
    "# np.savetxt(f\"spktime_{acs_params['frequency']}Hz.csv\", spktime, delimiter=\",\")\n",
    "# np.savetxt(f\"lfpdata_{acs_params['frequency']}Hz.csv\", lfpdata, delimiter=\",\")"
   ]
  },
  {
   "cell_type": "code",
   "execution_count": 12,
   "metadata": {},
   "outputs": [],
   "source": [
    "# pulse = acs_params['amp'] * 1000. * \\\n",
    "#           np.sin(2 * np.pi * acs_params['frequency'] * np.arange(0,3000) / 1000)\n",
    "# pulse[0:1200] = 0\n",
    "# pulse[2200:3000] = 0\n",
    "# plt.plot(pulse)"
   ]
  },
  {
   "cell_type": "code",
   "execution_count": 13,
   "metadata": {},
   "outputs": [],
   "source": [
    "# fig, ax = plt.subplots(nrows=3, ncols=1,  figsize=(10, 8))\n",
    "# ax[0].plot(spktime[spkid<80], spkid[spkid<80],'o', markersize=0.2)\n",
    "# ax[0].plot(spktime[spkid>=80], spkid[spkid>=80],'o' , markersize=0.2)\n",
    "# ax[1].plot(np.arange(0,3000, 0.1),lfpdata)\n",
    "# ax[2].plot(pulse*0.001)\n",
    "\n",
    "# ax[2].set_xlabel('Time (ms)')\n",
    "# ax[0].set_ylabel('Neuron ID')\n",
    "# ax[1].set_ylabel('Voltage (mV)')\n",
    "# ax[2].set_ylabel('Stimulus ($\\mu$A)')\n",
    "\n",
    "# ax[1].set_xticklabels([])\n",
    "# ax[0].set_xticklabels([])\n",
    "# ax[1].set_xticks([])\n",
    "# ax[0].set_xticks([])\n",
    "# ax[1].set_ylim([-0.29,0.17])\n"
   ]
  },
  {
   "cell_type": "code",
   "execution_count": 14,
   "metadata": {},
   "outputs": [],
   "source": [
    "# fig = plt.figure()\n",
    "# grid = plt.GridSpec(3, 1,height_ratios=[2,1.5,1], hspace=0.03)\n",
    "\n",
    "# ax_0 = fig.add_subplot(grid[0])\n",
    "# ax_0.plot(spktime[spkid<80], spkid[spkid<80],'|', markersize=0.8)\n",
    "# ax_0.plot(spktime[spkid>=80], spkid[spkid>=80],'|' , markersize=0.8)\n",
    "# ax_0.set_xticklabels([])\n",
    "# ax_0.set_xticks([])\n",
    "# ax_0.spines['bottom'].set_visible(False)\n",
    "# ax_0.set_ylabel('Neuron ID')\n",
    "\n",
    "# ax_1 = fig.add_subplot(grid[1])\n",
    "# ax_1.plot(np.arange(0,3000, 0.1),lfpdata)\n",
    "# ax_1.set_xticklabels([])\n",
    "# ax_1.set_xticks([])\n",
    "# ax_1.set_ylim([-0.29,0.17])\n",
    "# ax_1.spines[['bottom','top']].set_visible(False)\n",
    "# ax_1.set_ylabel('LFP (mV)')\n",
    "\n",
    "\n",
    "# ax_2 = fig.add_subplot(grid[2])\n",
    "# ax_2.plot(pulse*0.001)\n",
    "# ax_2.spines['top'].set_visible(False)\n",
    "# ax_2.set_ylabel('Stimulus ($\\mu$A)')\n",
    "# ax_2.set_xlabel('Time (ms)')\n",
    "\n",
    "# fig.savefig(fname=f\"raster_LFP_Stim_{acs_params['frequency']}Hz\")"
   ]
  },
  {
   "cell_type": "code",
   "execution_count": 15,
   "metadata": {},
   "outputs": [],
   "source": [
    "# simConfig.analysis['plotLFPSpecrogram'] = {'saveFig': True}                   # plot 2D cell positions and connections\n",
    "# simConfig.analysis.plotLFP()\n",
    "\n"
   ]
  },
  {
   "cell_type": "code",
   "execution_count": 16,
   "metadata": {},
   "outputs": [],
   "source": [
    "# v_cell_ext = np.zeros((nsectotal, n_tsteps))\n",
    "# v_cell_ext[:, :] = ext_field(cell.x.mean(axis=-1), cell.y.mean(axis=-1), cell.z.mean(axis=-1)\n",
    "#                                  ).reshape(nsectotal, 1) * pulse.reshape(1, n_tsteps)\n",
    "# cellxx = np.array([np.array([1, 2]), np.array([2, 5]), np.array([5, 8])])\n",
    "\n",
    "# cellxx.mean(axis=-1).reshape(3,1)"
   ]
  },
  {
   "cell_type": "code",
   "execution_count": null,
   "metadata": {},
   "outputs": [],
   "source": []
  }
 ],
 "metadata": {
  "kernelspec": {
   "display_name": "Python 3 (ipykernel)",
   "language": "python",
   "name": "python3"
  },
  "language_info": {
   "codemirror_mode": {
    "name": "ipython",
    "version": 3
   },
   "file_extension": ".py",
   "mimetype": "text/x-python",
   "name": "python",
   "nbconvert_exporter": "python",
   "pygments_lexer": "ipython3",
   "version": "3.10.11"
  }
 },
 "nbformat": 4,
 "nbformat_minor": 4
}
